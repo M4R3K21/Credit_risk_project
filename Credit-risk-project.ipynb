{
 "cells": [
  {
   "cell_type": "code",
   "execution_count": null,
   "id": "46402583",
   "metadata": {},
   "outputs": [],
   "source": [
    "!pip install ucimlrepo"
   ]
  },
  {
   "cell_type": "markdown",
   "id": "36972941",
   "metadata": {},
   "source": [
    "credit risk prediction using random forest"
   ]
  },
  {
   "cell_type": "code",
   "execution_count": null,
   "id": "22b344c5",
   "metadata": {},
   "outputs": [],
   "source": [
    "from ucimlrepo import fetch_ucirepo\n",
    "import pandas as pd\n",
    "\n",
    "data = fetch_ucirepo(id=144)\n",
    "X = data.data.features\n",
    "y = data.data.targets.iloc[:, 0]\n",
    "y = y.replace({1: 1, 2: 0})\n"
   ]
  },
  {
   "cell_type": "markdown",
   "id": "777d2d8b",
   "metadata": {},
   "source": [
    "rename columns"
   ]
  },
  {
   "cell_type": "code",
   "execution_count": null,
   "id": "48c6a683",
   "metadata": {},
   "outputs": [],
   "source": [
    "X = X.rename(columns={\n",
    "    'Attribute1': 'status_of_existing_checking_account',\n",
    "    'Attribute2': 'duration_in_month',\n",
    "    'Attribute3': 'credit_history',\n",
    "    'Attribute4': 'purpose',\n",
    "    'Attribute5': 'credit_amount',\n",
    "    'Attribute6': 'savings_account_bonds',\n",
    "    'Attribute7': 'present_employment_since',\n",
    "    'Attribute8': 'installment_rate_in_percentage_of_disposable_income',\n",
    "    'Attribute9': 'personal_status_and_sex',\n",
    "    'Attribute10': 'other_debtors_guarantors',\n",
    "    'Attribute11': 'present_residence_since',\n",
    "    'Attribute12': 'property',\n",
    "    'Attribute13': 'age_in_years',\n",
    "    'Attribute14': 'other_installment_plans',\n",
    "    'Attribute15': 'housing',\n",
    "    'Attribute16': 'number_of_existing_credits_at_this_bank',\n",
    "    'Attribute17': 'job',\n",
    "    'Attribute18': 'number_of_people_being_liable_to_provide_maintenance_for',\n",
    "    'Attribute19': 'telephone',\n",
    "    'Attribute20': 'foreign_worker'\n",
    "})"
   ]
  },
  {
   "cell_type": "markdown",
   "id": "363e8789",
   "metadata": {},
   "source": [
    "preprocessing"
   ]
  },
  {
   "cell_type": "code",
   "execution_count": null,
   "id": "e555d454",
   "metadata": {},
   "outputs": [],
   "source": [
    "from sklearn.compose import ColumnTransformer\n",
    "from sklearn.preprocessing import OneHotEncoder, MinMaxScaler\n",
    "\n",
    "categorical_cols = X.select_dtypes(include='object').columns\n",
    "numerical_cols = X.select_dtypes(include='int64').columns\n",
    "\n",
    "preprocessor = ColumnTransformer([\n",
    "    ('num', MinMaxScaler(), numerical_cols),\n",
    "    ('cat', OneHotEncoder(), categorical_cols)\n",
    "])\n",
    "\n",
    "X_processed = preprocessor.fit_transform(X)"
   ]
  },
  {
   "cell_type": "markdown",
   "id": "b73209f5",
   "metadata": {},
   "source": [
    "split data"
   ]
  },
  {
   "cell_type": "code",
   "execution_count": null,
   "id": "fa02289f",
   "metadata": {},
   "outputs": [],
   "source": [
    "from sklearn.model_selection import train_test_split\n",
    "\n",
    "X_train, X_test, y_train, y_test = train_test_split(\n",
    "    X_processed, y, test_size=0.2, random_state=42, stratify=y\n",
    ")"
   ]
  },
  {
   "cell_type": "markdown",
   "id": "327d87fa",
   "metadata": {},
   "source": [
    "train model"
   ]
  },
  {
   "cell_type": "code",
   "execution_count": null,
   "id": "21a2a6c7",
   "metadata": {},
   "outputs": [],
   "source": [
    "from sklearn.ensemble import RandomForestClassifier\n",
    "\n",
    "rf_model = RandomForestClassifier(random_state=42, class_weight='balanced')\n",
    "rf_model.fit(X_train, y_train)"
   ]
  },
  {
   "cell_type": "markdown",
   "id": "5f577ecb",
   "metadata": {},
   "source": [
    "evaluate"
   ]
  },
  {
   "cell_type": "code",
   "execution_count": null,
   "id": "801081c0",
   "metadata": {},
   "outputs": [],
   "source": [
    "from sklearn.metrics import accuracy_score, classification_report, confusion_matrix\n",
    "\n",
    "y_pred = rf_model.predict(X_test)\n",
    "print(\"accuracy:\", accuracy_score(y_test, y_pred))\n",
    "print(classification_report(y_test, y_pred))\n",
    "print(confusion_matrix(y_test, y_pred))"
   ]
  },
  {
   "cell_type": "markdown",
   "id": "3c86428b",
   "metadata": {},
   "source": [
    "roc curve and auc"
   ]
  },
  {
   "cell_type": "code",
   "execution_count": null,
   "id": "dc141c17",
   "metadata": {},
   "outputs": [],
   "source": [
    "from sklearn.metrics import roc_curve, roc_auc_score\n",
    "import matplotlib.pyplot as plt\n",
    "\n",
    "y_proba = rf_model.predict_proba(X_test)[:, 1]\n",
    "fpr, tpr, _ = roc_curve(y_test, y_proba)\n",
    "auc_score = roc_auc_score(y_test, y_proba)\n",
    "\n",
    "plt.plot(fpr, tpr, label=f\"auc = {auc_score:.2f}\")\n",
    "plt.plot([0,1],[0,1],'k--')\n",
    "plt.xlabel(\"false positive rate\")\n",
    "plt.ylabel(\"true positive rate\")\n",
    "plt.title(\"roc curve\")\n",
    "plt.legend()\n",
    "plt.grid(True)\n",
    "plt.show()"
   ]
  },
  {
   "cell_type": "markdown",
   "id": "9cc900b5",
   "metadata": {},
   "source": [
    "feature importance"
   ]
  },
  {
   "cell_type": "code",
   "execution_count": null,
   "id": "b46c298d",
   "metadata": {},
   "outputs": [],
   "source": [
    "feature_names = preprocessor.get_feature_names_out()\n",
    "importances = rf_model.feature_importances_\n",
    "\n",
    "feat_df = pd.DataFrame({\n",
    "    'feature': feature_names,\n",
    "    'importance': importances\n",
    "}).sort_values(by='importance', ascending=False)\n",
    "\n",
    "feat_df.head(10).plot(kind='barh', x='feature', y='importance', legend=False)\n",
    "plt.title(\"top 10 feature importances\")\n",
    "plt.gca().invert_yaxis()\n",
    "plt.show()"
   ]
  }
 ],
 "metadata": {},
 "nbformat": 4,
 "nbformat_minor": 5
}
